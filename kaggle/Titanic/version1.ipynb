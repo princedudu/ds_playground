{
 "cells": [
  {
   "cell_type": "markdown",
   "metadata": {},
   "source": [
    "## Import Library"
   ]
  },
  {
   "cell_type": "code",
   "execution_count": 5,
   "metadata": {
    "collapsed": true
   },
   "outputs": [],
   "source": [
    "import pandas as pd\n",
    "import numpy as np"
   ]
  },
  {
   "cell_type": "markdown",
   "metadata": {},
   "source": [
    "## Load Data"
   ]
  },
  {
   "cell_type": "code",
   "execution_count": 6,
   "metadata": {
    "collapsed": true
   },
   "outputs": [],
   "source": [
    "# Load the data \n",
    "df = pd.read_csv('train.csv')\n",
    "df_test = pd.read_csv('test.csv')\n",
    "df_new = pd.read_csv('gender_submission.csv')\n",
    "# df "
   ]
  },
  {
   "cell_type": "markdown",
   "metadata": {},
   "source": [
    "## Data Analysis and Transforming"
   ]
  },
  {
   "cell_type": "code",
   "execution_count": 7,
   "metadata": {
    "scrolled": false
   },
   "outputs": [
    {
     "name": "stdout",
     "output_type": "stream",
     "text": [
      "(889, 7)\n",
      "(889, 1)\n"
     ]
    }
   ],
   "source": [
    "# Check Pclass to see if there is NaN data\n",
    "df['Pclass'].value_counts() # no NaN\n",
    "# df['Pclass'][df['Pclass'] == 2].count()\n",
    "\n",
    "\n",
    "# Check data of sex\n",
    "df['Sex'].value_counts()\n",
    "# Set male to 0 and female to 1\n",
    "df['Sex'] = np.where((df['Sex'] == 'male'), 0, 1) \n",
    "\n",
    "\n",
    "# Check data of Age\n",
    "df['Age'].isnull().sum() # 177\n",
    "\n",
    "# compute the average value(mean value) of Age \n",
    "Age_mean = df['Age'][df['Age'].notnull()].mean() \n",
    "# set NaN to the mean value\n",
    "df['Age'] = df['Age'].fillna(Age_mean)\n",
    "# Scale the Age data\n",
    "df['Age'] /= Age_mean\n",
    "\n",
    "\n",
    "# Check if there exists NaN\n",
    "df['Fare'].isnull().count() # return 0\n",
    "Fare_mean = df['Fare'].mean()\n",
    "df['Fare'] /= Fare_mean\n",
    "\n",
    "\n",
    "# We discard cabin because the lost of too many data\n",
    "# df['Cabin'].isnull().sum()\n",
    "\n",
    "\n",
    "# Drop the sample that doesn't have data of Embarked\n",
    "df = df.drop(df.index[df['Embarked'].isnull()])\n",
    "df['Embarked'].isnull().sum() # return 0\n",
    "\n",
    "df.shape\n",
    "\n",
    "\n",
    "\n",
    "# Get the input and output for the model\n",
    "data_input = df[['Pclass', 'Sex', 'Age', 'SibSp', 'Parch', 'Fare', 'Embarked']]\n",
    "data_output = df[['Survived']]\n",
    "\n",
    "# See the dimension of data input and output after data analysis\n",
    "print(data_input.shape) # (8)\n",
    "print(data_output.shape)"
   ]
  },
  {
   "cell_type": "code",
   "execution_count": null,
   "metadata": {
    "collapsed": true
   },
   "outputs": [],
   "source": []
  }
 ],
 "metadata": {
  "kernelspec": {
   "display_name": "Python 3",
   "language": "python",
   "name": "python3"
  },
  "language_info": {
   "codemirror_mode": {
    "name": "ipython",
    "version": 3
   },
   "file_extension": ".py",
   "mimetype": "text/x-python",
   "name": "python",
   "nbconvert_exporter": "python",
   "pygments_lexer": "ipython3",
   "version": "3.6.1"
  }
 },
 "nbformat": 4,
 "nbformat_minor": 2
}
